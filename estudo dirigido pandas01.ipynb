{
 "cells": [
  {
   "cell_type": "markdown",
   "metadata": {
    "colab": {},
    "colab_type": "code",
    "id": "4z_6L8Ija7KI"
   },
   "source": [
    "# ESTUDO PANDAS 15/02/2022 aula - 1"
   ]
  },
  {
   "cell_type": "code",
   "execution_count": 0,
   "metadata": {
    "colab": {},
    "colab_type": "code",
    "id": "kj0oCwnBM6Bq"
   },
   "outputs": [],
   "source": [
    "import pandas as pd\n",
    "import numpy as np"
   ]
  },
  {
   "cell_type": "code",
   "execution_count": 0,
   "metadata": {
    "colab": {},
    "colab_type": "code",
    "id": "Kx4POoQRM-bv"
   },
   "outputs": [],
   "source": [
    "datas = pd.date_range('20190101', periods = 60, freq=\"D\")\n",
    "\n",
    "df = pd.DataFrame(np.random.randn(60,5), index = datas, columns = list(\"ABCDE\")) "
   ]
  },
  {
   "cell_type": "code",
   "execution_count": 0,
   "metadata": {
    "colab": {
     "base_uri": "https://localhost:8080/",
     "height": 34
    },
    "colab_type": "code",
    "executionInfo": {
     "elapsed": 935,
     "status": "ok",
     "timestamp": 1563565560536,
     "user": {
      "displayName": "Rafael Fernandes",
      "photoUrl": "https://lh3.googleusercontent.com/-cY_7JGVW-Rw/AAAAAAAAAAI/AAAAAAAAAIk/8xGQXeNVWnY/s64/photo.jpg",
      "userId": "10740748114912045794"
     },
     "user_tz": 180
    },
    "id": "h2zSaoQkNFm5",
    "outputId": "7026940d-4c7f-4506-de36-7d2bcff78758"
   },
   "outputs": [
    {
     "data": {
      "text/plain": [
       "(60, 5)"
      ]
     },
     "execution_count": 3,
     "metadata": {
      "tags": []
     },
     "output_type": "execute_result"
    }
   ],
   "source": [
    "df.shape"
   ]
  },
  {
   "cell_type": "code",
   "execution_count": null,
   "metadata": {},
   "outputs": [],
   "source": [
    "A função shape informa quantidade de linhas e colunas."
   ]
  },
  {
   "cell_type": "code",
   "execution_count": 0,
   "metadata": {
    "colab": {
     "base_uri": "https://localhost:8080/",
     "height": 142
    },
    "colab_type": "code",
    "executionInfo": {
     "elapsed": 913,
     "status": "ok",
     "timestamp": 1563565560538,
     "user": {
      "displayName": "Rafael Fernandes",
      "photoUrl": "https://lh3.googleusercontent.com/-cY_7JGVW-Rw/AAAAAAAAAAI/AAAAAAAAAIk/8xGQXeNVWnY/s64/photo.jpg",
      "userId": "10740748114912045794"
     },
     "user_tz": 180
    },
    "id": "CCnyrvg3NGcV",
    "outputId": "9f38e0fb-285c-4b2f-9c84-81015a04364b"
   },
   "outputs": [
    {
     "data": {
      "text/html": [
       "<div>\n",
       "<style scoped>\n",
       "    .dataframe tbody tr th:only-of-type {\n",
       "        vertical-align: middle;\n",
       "    }\n",
       "\n",
       "    .dataframe tbody tr th {\n",
       "        vertical-align: top;\n",
       "    }\n",
       "\n",
       "    .dataframe thead th {\n",
       "        text-align: right;\n",
       "    }\n",
       "</style>\n",
       "<table border=\"1\" class=\"dataframe\">\n",
       "  <thead>\n",
       "    <tr style=\"text-align: right;\">\n",
       "      <th></th>\n",
       "      <th>A</th>\n",
       "      <th>B</th>\n",
       "      <th>C</th>\n",
       "      <th>D</th>\n",
       "      <th>E</th>\n",
       "    </tr>\n",
       "  </thead>\n",
       "  <tbody>\n",
       "    <tr>\n",
       "      <th>2019-01-01</th>\n",
       "      <td>0.283240</td>\n",
       "      <td>2.087325</td>\n",
       "      <td>0.630437</td>\n",
       "      <td>0.823570</td>\n",
       "      <td>1.481908</td>\n",
       "    </tr>\n",
       "    <tr>\n",
       "      <th>2019-01-02</th>\n",
       "      <td>-0.907074</td>\n",
       "      <td>-1.085694</td>\n",
       "      <td>1.052671</td>\n",
       "      <td>0.193518</td>\n",
       "      <td>2.641843</td>\n",
       "    </tr>\n",
       "    <tr>\n",
       "      <th>2019-01-03</th>\n",
       "      <td>-0.866348</td>\n",
       "      <td>0.004004</td>\n",
       "      <td>0.157186</td>\n",
       "      <td>-2.322046</td>\n",
       "      <td>0.845226</td>\n",
       "    </tr>\n",
       "  </tbody>\n",
       "</table>\n",
       "</div>"
      ],
      "text/plain": [
       "                   A         B         C         D         E\n",
       "2019-01-01  0.283240  2.087325  0.630437  0.823570  1.481908\n",
       "2019-01-02 -0.907074 -1.085694  1.052671  0.193518  2.641843\n",
       "2019-01-03 -0.866348  0.004004  0.157186 -2.322046  0.845226"
      ]
     },
     "execution_count": 4,
     "metadata": {
      "tags": []
     },
     "output_type": "execute_result"
    }
   ],
   "source": [
    "df.head(3)"
   ]
  },
  {
   "cell_type": "markdown",
   "metadata": {},
   "source": [
    "head() mostra as primeiras 5 linhas do dataframe, pode ser alterada a quantidade de acordo com número inserido nos parenteses."
   ]
  },
  {
   "cell_type": "code",
   "execution_count": null,
   "metadata": {
    "colab": {},
    "colab_type": "code",
    "id": "Fif0byoMNPBE"
   },
   "outputs": [],
   "source": [
    "df['F'] = 1"
   ]
  },
  {
   "cell_type": "markdown",
   "metadata": {},
   "source": [
    "Acima mostra como inserir uma coluna no data frame, e nomea-la Com nome 'F' e inserir valor 1 em todas as linhas"
   ]
  },
  {
   "cell_type": "code",
   "execution_count": 0,
   "metadata": {
    "colab": {
     "base_uri": "https://localhost:8080/",
     "height": 359
    },
    "colab_type": "code",
    "executionInfo": {
     "elapsed": 1199,
     "status": "ok",
     "timestamp": 1563565560828,
     "user": {
      "displayName": "Rafael Fernandes",
      "photoUrl": "https://lh3.googleusercontent.com/-cY_7JGVW-Rw/AAAAAAAAAAI/AAAAAAAAAIk/8xGQXeNVWnY/s64/photo.jpg",
      "userId": "10740748114912045794"
     },
     "user_tz": 180
    },
    "id": "8kmcDNOiNkA5",
    "outputId": "2ca4a7dd-4b77-4d75-cc04-d2175c3aee70"
   },
   "outputs": [
    {
     "data": {
      "text/html": [
       "<div>\n",
       "<style scoped>\n",
       "    .dataframe tbody tr th:only-of-type {\n",
       "        vertical-align: middle;\n",
       "    }\n",
       "\n",
       "    .dataframe tbody tr th {\n",
       "        vertical-align: top;\n",
       "    }\n",
       "\n",
       "    .dataframe thead th {\n",
       "        text-align: right;\n",
       "    }\n",
       "</style>\n",
       "<table border=\"1\" class=\"dataframe\">\n",
       "  <thead>\n",
       "    <tr style=\"text-align: right;\">\n",
       "      <th></th>\n",
       "      <th>A</th>\n",
       "      <th>B</th>\n",
       "      <th>C</th>\n",
       "      <th>D</th>\n",
       "      <th>E</th>\n",
       "      <th>F</th>\n",
       "    </tr>\n",
       "  </thead>\n",
       "  <tbody>\n",
       "    <tr>\n",
       "      <th>2019-01-01</th>\n",
       "      <td>0.283240</td>\n",
       "      <td>2.087325</td>\n",
       "      <td>0.630437</td>\n",
       "      <td>0.823570</td>\n",
       "      <td>1.481908</td>\n",
       "      <td>1</td>\n",
       "    </tr>\n",
       "    <tr>\n",
       "      <th>2019-01-02</th>\n",
       "      <td>-0.907074</td>\n",
       "      <td>-1.085694</td>\n",
       "      <td>1.052671</td>\n",
       "      <td>0.193518</td>\n",
       "      <td>2.641843</td>\n",
       "      <td>1</td>\n",
       "    </tr>\n",
       "    <tr>\n",
       "      <th>2019-01-03</th>\n",
       "      <td>-0.866348</td>\n",
       "      <td>0.004004</td>\n",
       "      <td>0.157186</td>\n",
       "      <td>-2.322046</td>\n",
       "      <td>0.845226</td>\n",
       "      <td>1</td>\n",
       "    </tr>\n",
       "    <tr>\n",
       "      <th>2019-01-04</th>\n",
       "      <td>-1.076930</td>\n",
       "      <td>-1.300584</td>\n",
       "      <td>0.269075</td>\n",
       "      <td>0.909176</td>\n",
       "      <td>-0.051380</td>\n",
       "      <td>1</td>\n",
       "    </tr>\n",
       "    <tr>\n",
       "      <th>2019-01-05</th>\n",
       "      <td>-0.329528</td>\n",
       "      <td>-1.164994</td>\n",
       "      <td>-1.205827</td>\n",
       "      <td>-1.599072</td>\n",
       "      <td>1.517302</td>\n",
       "      <td>1</td>\n",
       "    </tr>\n",
       "    <tr>\n",
       "      <th>2019-01-06</th>\n",
       "      <td>1.151188</td>\n",
       "      <td>-2.169073</td>\n",
       "      <td>0.988045</td>\n",
       "      <td>0.975615</td>\n",
       "      <td>-1.321441</td>\n",
       "      <td>1</td>\n",
       "    </tr>\n",
       "    <tr>\n",
       "      <th>2019-01-07</th>\n",
       "      <td>0.061950</td>\n",
       "      <td>-0.750366</td>\n",
       "      <td>-0.785738</td>\n",
       "      <td>0.756398</td>\n",
       "      <td>-0.226247</td>\n",
       "      <td>1</td>\n",
       "    </tr>\n",
       "    <tr>\n",
       "      <th>2019-01-08</th>\n",
       "      <td>1.933775</td>\n",
       "      <td>0.306534</td>\n",
       "      <td>0.011139</td>\n",
       "      <td>-1.242399</td>\n",
       "      <td>0.751500</td>\n",
       "      <td>1</td>\n",
       "    </tr>\n",
       "    <tr>\n",
       "      <th>2019-01-09</th>\n",
       "      <td>0.878332</td>\n",
       "      <td>-1.160682</td>\n",
       "      <td>0.450558</td>\n",
       "      <td>0.407321</td>\n",
       "      <td>-1.159705</td>\n",
       "      <td>1</td>\n",
       "    </tr>\n",
       "    <tr>\n",
       "      <th>2019-01-10</th>\n",
       "      <td>1.203504</td>\n",
       "      <td>2.973628</td>\n",
       "      <td>-0.775590</td>\n",
       "      <td>-0.199750</td>\n",
       "      <td>-0.354775</td>\n",
       "      <td>1</td>\n",
       "    </tr>\n",
       "  </tbody>\n",
       "</table>\n",
       "</div>"
      ],
      "text/plain": [
       "                   A         B         C         D         E  F\n",
       "2019-01-01  0.283240  2.087325  0.630437  0.823570  1.481908  1\n",
       "2019-01-02 -0.907074 -1.085694  1.052671  0.193518  2.641843  1\n",
       "2019-01-03 -0.866348  0.004004  0.157186 -2.322046  0.845226  1\n",
       "2019-01-04 -1.076930 -1.300584  0.269075  0.909176 -0.051380  1\n",
       "2019-01-05 -0.329528 -1.164994 -1.205827 -1.599072  1.517302  1\n",
       "2019-01-06  1.151188 -2.169073  0.988045  0.975615 -1.321441  1\n",
       "2019-01-07  0.061950 -0.750366 -0.785738  0.756398 -0.226247  1\n",
       "2019-01-08  1.933775  0.306534  0.011139 -1.242399  0.751500  1\n",
       "2019-01-09  0.878332 -1.160682  0.450558  0.407321 -1.159705  1\n",
       "2019-01-10  1.203504  2.973628 -0.775590 -0.199750 -0.354775  1"
      ]
     },
     "execution_count": 6,
     "metadata": {
      "tags": []
     },
     "output_type": "execute_result"
    }
   ],
   "source": [
    "df.head(10)"
   ]
  },
  {
   "cell_type": "code",
   "execution_count": 0,
   "metadata": {
    "colab": {},
    "colab_type": "code",
    "id": "z1EhzK_dNkGX"
   },
   "outputs": [],
   "source": [
    "df['G'] = range(60)"
   ]
  },
  {
   "cell_type": "markdown",
   "metadata": {},
   "source": [
    "O range em python começa a contar no 0 e vai até 59, nesse caso foram inseridos 60 valores nas linhas sequencialmente na coluna G."
   ]
  },
  {
   "cell_type": "code",
   "execution_count": 0,
   "metadata": {
    "colab": {
     "base_uri": "https://localhost:8080/",
     "height": 514
    },
    "colab_type": "code",
    "executionInfo": {
     "elapsed": 1174,
     "status": "ok",
     "timestamp": 1563565560835,
     "user": {
      "displayName": "Rafael Fernandes",
      "photoUrl": "https://lh3.googleusercontent.com/-cY_7JGVW-Rw/AAAAAAAAAAI/AAAAAAAAAIk/8xGQXeNVWnY/s64/photo.jpg",
      "userId": "10740748114912045794"
     },
     "user_tz": 180
    },
    "id": "ycNiZD9-NkIx",
    "outputId": "fff48d9b-44be-415e-bdb9-129bc3b7031b"
   },
   "outputs": [
    {
     "data": {
      "text/html": [
       "<div>\n",
       "<style scoped>\n",
       "    .dataframe tbody tr th:only-of-type {\n",
       "        vertical-align: middle;\n",
       "    }\n",
       "\n",
       "    .dataframe tbody tr th {\n",
       "        vertical-align: top;\n",
       "    }\n",
       "\n",
       "    .dataframe thead th {\n",
       "        text-align: right;\n",
       "    }\n",
       "</style>\n",
       "<table border=\"1\" class=\"dataframe\">\n",
       "  <thead>\n",
       "    <tr style=\"text-align: right;\">\n",
       "      <th></th>\n",
       "      <th>A</th>\n",
       "      <th>B</th>\n",
       "      <th>C</th>\n",
       "      <th>D</th>\n",
       "      <th>E</th>\n",
       "      <th>F</th>\n",
       "      <th>G</th>\n",
       "    </tr>\n",
       "  </thead>\n",
       "  <tbody>\n",
       "    <tr>\n",
       "      <th>2019-01-01</th>\n",
       "      <td>0.283240</td>\n",
       "      <td>2.087325</td>\n",
       "      <td>0.630437</td>\n",
       "      <td>0.823570</td>\n",
       "      <td>1.481908</td>\n",
       "      <td>1</td>\n",
       "      <td>0</td>\n",
       "    </tr>\n",
       "    <tr>\n",
       "      <th>2019-01-02</th>\n",
       "      <td>-0.907074</td>\n",
       "      <td>-1.085694</td>\n",
       "      <td>1.052671</td>\n",
       "      <td>0.193518</td>\n",
       "      <td>2.641843</td>\n",
       "      <td>1</td>\n",
       "      <td>1</td>\n",
       "    </tr>\n",
       "    <tr>\n",
       "      <th>2019-01-03</th>\n",
       "      <td>-0.866348</td>\n",
       "      <td>0.004004</td>\n",
       "      <td>0.157186</td>\n",
       "      <td>-2.322046</td>\n",
       "      <td>0.845226</td>\n",
       "      <td>1</td>\n",
       "      <td>2</td>\n",
       "    </tr>\n",
       "    <tr>\n",
       "      <th>2019-01-04</th>\n",
       "      <td>-1.076930</td>\n",
       "      <td>-1.300584</td>\n",
       "      <td>0.269075</td>\n",
       "      <td>0.909176</td>\n",
       "      <td>-0.051380</td>\n",
       "      <td>1</td>\n",
       "      <td>3</td>\n",
       "    </tr>\n",
       "    <tr>\n",
       "      <th>2019-01-05</th>\n",
       "      <td>-0.329528</td>\n",
       "      <td>-1.164994</td>\n",
       "      <td>-1.205827</td>\n",
       "      <td>-1.599072</td>\n",
       "      <td>1.517302</td>\n",
       "      <td>1</td>\n",
       "      <td>4</td>\n",
       "    </tr>\n",
       "    <tr>\n",
       "      <th>2019-01-06</th>\n",
       "      <td>1.151188</td>\n",
       "      <td>-2.169073</td>\n",
       "      <td>0.988045</td>\n",
       "      <td>0.975615</td>\n",
       "      <td>-1.321441</td>\n",
       "      <td>1</td>\n",
       "      <td>5</td>\n",
       "    </tr>\n",
       "    <tr>\n",
       "      <th>2019-01-07</th>\n",
       "      <td>0.061950</td>\n",
       "      <td>-0.750366</td>\n",
       "      <td>-0.785738</td>\n",
       "      <td>0.756398</td>\n",
       "      <td>-0.226247</td>\n",
       "      <td>1</td>\n",
       "      <td>6</td>\n",
       "    </tr>\n",
       "    <tr>\n",
       "      <th>2019-01-08</th>\n",
       "      <td>1.933775</td>\n",
       "      <td>0.306534</td>\n",
       "      <td>0.011139</td>\n",
       "      <td>-1.242399</td>\n",
       "      <td>0.751500</td>\n",
       "      <td>1</td>\n",
       "      <td>7</td>\n",
       "    </tr>\n",
       "    <tr>\n",
       "      <th>2019-01-09</th>\n",
       "      <td>0.878332</td>\n",
       "      <td>-1.160682</td>\n",
       "      <td>0.450558</td>\n",
       "      <td>0.407321</td>\n",
       "      <td>-1.159705</td>\n",
       "      <td>1</td>\n",
       "      <td>8</td>\n",
       "    </tr>\n",
       "    <tr>\n",
       "      <th>2019-01-10</th>\n",
       "      <td>1.203504</td>\n",
       "      <td>2.973628</td>\n",
       "      <td>-0.775590</td>\n",
       "      <td>-0.199750</td>\n",
       "      <td>-0.354775</td>\n",
       "      <td>1</td>\n",
       "      <td>9</td>\n",
       "    </tr>\n",
       "    <tr>\n",
       "      <th>2019-01-11</th>\n",
       "      <td>0.427712</td>\n",
       "      <td>-0.196403</td>\n",
       "      <td>-0.999341</td>\n",
       "      <td>-0.093749</td>\n",
       "      <td>0.306809</td>\n",
       "      <td>1</td>\n",
       "      <td>10</td>\n",
       "    </tr>\n",
       "    <tr>\n",
       "      <th>2019-01-12</th>\n",
       "      <td>-1.247855</td>\n",
       "      <td>-1.653086</td>\n",
       "      <td>0.539469</td>\n",
       "      <td>-0.807621</td>\n",
       "      <td>0.842675</td>\n",
       "      <td>1</td>\n",
       "      <td>11</td>\n",
       "    </tr>\n",
       "    <tr>\n",
       "      <th>2019-01-13</th>\n",
       "      <td>0.903308</td>\n",
       "      <td>-0.894699</td>\n",
       "      <td>-1.207401</td>\n",
       "      <td>2.181697</td>\n",
       "      <td>-0.600510</td>\n",
       "      <td>1</td>\n",
       "      <td>12</td>\n",
       "    </tr>\n",
       "    <tr>\n",
       "      <th>2019-01-14</th>\n",
       "      <td>1.395002</td>\n",
       "      <td>0.476635</td>\n",
       "      <td>-0.477514</td>\n",
       "      <td>1.145764</td>\n",
       "      <td>-1.428597</td>\n",
       "      <td>1</td>\n",
       "      <td>13</td>\n",
       "    </tr>\n",
       "    <tr>\n",
       "      <th>2019-01-15</th>\n",
       "      <td>-0.300930</td>\n",
       "      <td>-0.506677</td>\n",
       "      <td>0.674227</td>\n",
       "      <td>0.012049</td>\n",
       "      <td>-1.547659</td>\n",
       "      <td>1</td>\n",
       "      <td>14</td>\n",
       "    </tr>\n",
       "  </tbody>\n",
       "</table>\n",
       "</div>"
      ],
      "text/plain": [
       "                   A         B         C         D         E  F   G\n",
       "2019-01-01  0.283240  2.087325  0.630437  0.823570  1.481908  1   0\n",
       "2019-01-02 -0.907074 -1.085694  1.052671  0.193518  2.641843  1   1\n",
       "2019-01-03 -0.866348  0.004004  0.157186 -2.322046  0.845226  1   2\n",
       "2019-01-04 -1.076930 -1.300584  0.269075  0.909176 -0.051380  1   3\n",
       "2019-01-05 -0.329528 -1.164994 -1.205827 -1.599072  1.517302  1   4\n",
       "2019-01-06  1.151188 -2.169073  0.988045  0.975615 -1.321441  1   5\n",
       "2019-01-07  0.061950 -0.750366 -0.785738  0.756398 -0.226247  1   6\n",
       "2019-01-08  1.933775  0.306534  0.011139 -1.242399  0.751500  1   7\n",
       "2019-01-09  0.878332 -1.160682  0.450558  0.407321 -1.159705  1   8\n",
       "2019-01-10  1.203504  2.973628 -0.775590 -0.199750 -0.354775  1   9\n",
       "2019-01-11  0.427712 -0.196403 -0.999341 -0.093749  0.306809  1  10\n",
       "2019-01-12 -1.247855 -1.653086  0.539469 -0.807621  0.842675  1  11\n",
       "2019-01-13  0.903308 -0.894699 -1.207401  2.181697 -0.600510  1  12\n",
       "2019-01-14  1.395002  0.476635 -0.477514  1.145764 -1.428597  1  13\n",
       "2019-01-15 -0.300930 -0.506677  0.674227  0.012049 -1.547659  1  14"
      ]
     },
     "execution_count": 8,
     "metadata": {
      "tags": []
     },
     "output_type": "execute_result"
    }
   ],
   "source": [
    "df.head(15)"
   ]
  },
  {
   "cell_type": "code",
   "execution_count": 0,
   "metadata": {
    "colab": {},
    "colab_type": "code",
    "id": "TztvAOmkNkLs"
   },
   "outputs": [],
   "source": [
    "df['Produto'] = df['A'] * df['B']"
   ]
  },
  {
   "cell_type": "markdown",
   "metadata": {},
   "source": [
    "Na operação acima mostra como é a multiplicação de colunas com pandas, gerando valor da coluna produto."
   ]
  },
  {
   "cell_type": "code",
   "execution_count": 0,
   "metadata": {
    "colab": {
     "base_uri": "https://localhost:8080/",
     "height": 142
    },
    "colab_type": "code",
    "executionInfo": {
     "elapsed": 1159,
     "status": "ok",
     "timestamp": 1563565560843,
     "user": {
      "displayName": "Rafael Fernandes",
      "photoUrl": "https://lh3.googleusercontent.com/-cY_7JGVW-Rw/AAAAAAAAAAI/AAAAAAAAAIk/8xGQXeNVWnY/s64/photo.jpg",
      "userId": "10740748114912045794"
     },
     "user_tz": 180
    },
    "id": "4H6PC47oOg4U",
    "outputId": "e505a9ad-37f5-429b-b57c-24b53f073d25"
   },
   "outputs": [
    {
     "data": {
      "text/html": [
       "<div>\n",
       "<style scoped>\n",
       "    .dataframe tbody tr th:only-of-type {\n",
       "        vertical-align: middle;\n",
       "    }\n",
       "\n",
       "    .dataframe tbody tr th {\n",
       "        vertical-align: top;\n",
       "    }\n",
       "\n",
       "    .dataframe thead th {\n",
       "        text-align: right;\n",
       "    }\n",
       "</style>\n",
       "<table border=\"1\" class=\"dataframe\">\n",
       "  <thead>\n",
       "    <tr style=\"text-align: right;\">\n",
       "      <th></th>\n",
       "      <th>A</th>\n",
       "      <th>B</th>\n",
       "      <th>C</th>\n",
       "      <th>D</th>\n",
       "      <th>E</th>\n",
       "      <th>F</th>\n",
       "      <th>G</th>\n",
       "      <th>Produto</th>\n",
       "    </tr>\n",
       "  </thead>\n",
       "  <tbody>\n",
       "    <tr>\n",
       "      <th>2019-01-01</th>\n",
       "      <td>0.283240</td>\n",
       "      <td>2.087325</td>\n",
       "      <td>0.630437</td>\n",
       "      <td>0.823570</td>\n",
       "      <td>1.481908</td>\n",
       "      <td>1</td>\n",
       "      <td>0</td>\n",
       "      <td>0.591213</td>\n",
       "    </tr>\n",
       "    <tr>\n",
       "      <th>2019-01-02</th>\n",
       "      <td>-0.907074</td>\n",
       "      <td>-1.085694</td>\n",
       "      <td>1.052671</td>\n",
       "      <td>0.193518</td>\n",
       "      <td>2.641843</td>\n",
       "      <td>1</td>\n",
       "      <td>1</td>\n",
       "      <td>0.984805</td>\n",
       "    </tr>\n",
       "    <tr>\n",
       "      <th>2019-01-03</th>\n",
       "      <td>-0.866348</td>\n",
       "      <td>0.004004</td>\n",
       "      <td>0.157186</td>\n",
       "      <td>-2.322046</td>\n",
       "      <td>0.845226</td>\n",
       "      <td>1</td>\n",
       "      <td>2</td>\n",
       "      <td>-0.003469</td>\n",
       "    </tr>\n",
       "  </tbody>\n",
       "</table>\n",
       "</div>"
      ],
      "text/plain": [
       "                   A         B         C         D         E  F  G   Produto\n",
       "2019-01-01  0.283240  2.087325  0.630437  0.823570  1.481908  1  0  0.591213\n",
       "2019-01-02 -0.907074 -1.085694  1.052671  0.193518  2.641843  1  1  0.984805\n",
       "2019-01-03 -0.866348  0.004004  0.157186 -2.322046  0.845226  1  2 -0.003469"
      ]
     },
     "execution_count": 10,
     "metadata": {
      "tags": []
     },
     "output_type": "execute_result"
    }
   ],
   "source": [
    "df.head(3)"
   ]
  },
  {
   "cell_type": "code",
   "execution_count": 0,
   "metadata": {
    "colab": {
     "base_uri": "https://localhost:8080/",
     "height": 34
    },
    "colab_type": "code",
    "executionInfo": {
     "elapsed": 1140,
     "status": "ok",
     "timestamp": 1563565560847,
     "user": {
      "displayName": "Rafael Fernandes",
      "photoUrl": "https://lh3.googleusercontent.com/-cY_7JGVW-Rw/AAAAAAAAAAI/AAAAAAAAAIk/8xGQXeNVWnY/s64/photo.jpg",
      "userId": "10740748114912045794"
     },
     "user_tz": 180
    },
    "id": "KHiQO_lAOimX",
    "outputId": "edfa355d-d084-4a92-c7c4-ce7fa6d53929"
   },
   "outputs": [
    {
     "data": {
      "text/plain": [
       "-1.407728225046"
      ]
     },
     "execution_count": 11,
     "metadata": {
      "tags": []
     },
     "output_type": "execute_result"
    }
   ],
   "source": [
    "1.993602 * -0.706123"
   ]
  },
  {
   "cell_type": "code",
   "execution_count": 0,
   "metadata": {
    "colab": {},
    "colab_type": "code",
    "id": "X4_Pz2SqOmhD"
   },
   "outputs": [],
   "source": [
    "df['D'] = 88 "
   ]
  },
  {
   "cell_type": "markdown",
   "metadata": {},
   "source": [
    "acima aprensenta uma substituição do valor da coluna D."
   ]
  },
  {
   "cell_type": "code",
   "execution_count": 0,
   "metadata": {
    "colab": {
     "base_uri": "https://localhost:8080/",
     "height": 142
    },
    "colab_type": "code",
    "executionInfo": {
     "elapsed": 1128,
     "status": "ok",
     "timestamp": 1563565560856,
     "user": {
      "displayName": "Rafael Fernandes",
      "photoUrl": "https://lh3.googleusercontent.com/-cY_7JGVW-Rw/AAAAAAAAAAI/AAAAAAAAAIk/8xGQXeNVWnY/s64/photo.jpg",
      "userId": "10740748114912045794"
     },
     "user_tz": 180
    },
    "id": "yFh7PYrTO1XS",
    "outputId": "cdad5d70-84d7-4a4f-9318-1233787774b7"
   },
   "outputs": [
    {
     "data": {
      "text/html": [
       "<div>\n",
       "<style scoped>\n",
       "    .dataframe tbody tr th:only-of-type {\n",
       "        vertical-align: middle;\n",
       "    }\n",
       "\n",
       "    .dataframe tbody tr th {\n",
       "        vertical-align: top;\n",
       "    }\n",
       "\n",
       "    .dataframe thead th {\n",
       "        text-align: right;\n",
       "    }\n",
       "</style>\n",
       "<table border=\"1\" class=\"dataframe\">\n",
       "  <thead>\n",
       "    <tr style=\"text-align: right;\">\n",
       "      <th></th>\n",
       "      <th>A</th>\n",
       "      <th>B</th>\n",
       "      <th>C</th>\n",
       "      <th>D</th>\n",
       "      <th>E</th>\n",
       "      <th>F</th>\n",
       "      <th>G</th>\n",
       "      <th>Produto</th>\n",
       "    </tr>\n",
       "  </thead>\n",
       "  <tbody>\n",
       "    <tr>\n",
       "      <th>2019-01-01</th>\n",
       "      <td>0.283240</td>\n",
       "      <td>2.087325</td>\n",
       "      <td>0.630437</td>\n",
       "      <td>88</td>\n",
       "      <td>1.481908</td>\n",
       "      <td>1</td>\n",
       "      <td>0</td>\n",
       "      <td>0.591213</td>\n",
       "    </tr>\n",
       "    <tr>\n",
       "      <th>2019-01-02</th>\n",
       "      <td>-0.907074</td>\n",
       "      <td>-1.085694</td>\n",
       "      <td>1.052671</td>\n",
       "      <td>88</td>\n",
       "      <td>2.641843</td>\n",
       "      <td>1</td>\n",
       "      <td>1</td>\n",
       "      <td>0.984805</td>\n",
       "    </tr>\n",
       "    <tr>\n",
       "      <th>2019-01-03</th>\n",
       "      <td>-0.866348</td>\n",
       "      <td>0.004004</td>\n",
       "      <td>0.157186</td>\n",
       "      <td>88</td>\n",
       "      <td>0.845226</td>\n",
       "      <td>1</td>\n",
       "      <td>2</td>\n",
       "      <td>-0.003469</td>\n",
       "    </tr>\n",
       "  </tbody>\n",
       "</table>\n",
       "</div>"
      ],
      "text/plain": [
       "                   A         B         C   D         E  F  G   Produto\n",
       "2019-01-01  0.283240  2.087325  0.630437  88  1.481908  1  0  0.591213\n",
       "2019-01-02 -0.907074 -1.085694  1.052671  88  2.641843  1  1  0.984805\n",
       "2019-01-03 -0.866348  0.004004  0.157186  88  0.845226  1  2 -0.003469"
      ]
     },
     "execution_count": 13,
     "metadata": {
      "tags": []
     },
     "output_type": "execute_result"
    }
   ],
   "source": [
    "df.head(3)"
   ]
  },
  {
   "cell_type": "code",
   "execution_count": 0,
   "metadata": {
    "colab": {
     "base_uri": "https://localhost:8080/",
     "height": 170
    },
    "colab_type": "code",
    "executionInfo": {
     "elapsed": 704,
     "status": "ok",
     "timestamp": 1563565575627,
     "user": {
      "displayName": "Rafael Fernandes",
      "photoUrl": "https://lh3.googleusercontent.com/-cY_7JGVW-Rw/AAAAAAAAAAI/AAAAAAAAAIk/8xGQXeNVWnY/s64/photo.jpg",
      "userId": "10740748114912045794"
     },
     "user_tz": 180
    },
    "id": "r8-84O4ZO33D",
    "outputId": "f16f508f-6bdf-4f49-c9d9-58a8ffadd07f"
   },
   "outputs": [
    {
     "data": {
      "text/plain": [
       "A          60\n",
       "B          60\n",
       "C          60\n",
       "D          60\n",
       "E          60\n",
       "F          60\n",
       "G          60\n",
       "Produto    60\n",
       "dtype: int64"
      ]
     },
     "execution_count": 14,
     "metadata": {
      "tags": []
     },
     "output_type": "execute_result"
    }
   ],
   "source": [
    "df.count()"
   ]
  },
  {
   "cell_type": "code",
   "execution_count": null,
   "metadata": {},
   "outputs": [],
   "source": [
    "A função count "
   ]
  },
  {
   "cell_type": "code",
   "execution_count": 0,
   "metadata": {
    "colab": {},
    "colab_type": "code",
    "id": "urdjFOb4xUpc"
   },
   "outputs": [],
   "source": []
  }
 ],
 "metadata": {
  "colab": {
   "name": "Cópia de novaColuna.ipynb",
   "provenance": []
  },
  "kernelspec": {
   "display_name": "Python 3 (ipykernel)",
   "language": "python",
   "name": "python3"
  },
  "language_info": {
   "codemirror_mode": {
    "name": "ipython",
    "version": 3
   },
   "file_extension": ".py",
   "mimetype": "text/x-python",
   "name": "python",
   "nbconvert_exporter": "python",
   "pygments_lexer": "ipython3",
   "version": "3.10.0"
  },
  "latex_envs": {
   "LaTeX_envs_menu_present": true,
   "autoclose": false,
   "autocomplete": true,
   "bibliofile": "biblio.bib",
   "cite_by": "apalike",
   "current_citInitial": 1,
   "eqLabelWithNumbers": true,
   "eqNumInitial": 1,
   "hotkeys": {
    "equation": "Ctrl-E",
    "itemize": "Ctrl-I"
   },
   "labels_anchors": false,
   "latex_user_defs": false,
   "report_style_numbering": false,
   "user_envs_cfg": false
  },
  "nbTranslate": {
   "displayLangs": [
    "*"
   ],
   "hotkey": "alt-t",
   "langInMainMenu": true,
   "sourceLang": "en",
   "targetLang": "fr",
   "useGoogleTranslate": true
  },
  "toc": {
   "base_numbering": 1,
   "nav_menu": {},
   "number_sections": true,
   "sideBar": true,
   "skip_h1_title": false,
   "title_cell": "Table of Contents",
   "title_sidebar": "Contents",
   "toc_cell": false,
   "toc_position": {},
   "toc_section_display": true,
   "toc_window_display": false
  },
  "varInspector": {
   "cols": {
    "lenName": 16,
    "lenType": 16,
    "lenVar": 40
   },
   "kernels_config": {
    "python": {
     "delete_cmd_postfix": "",
     "delete_cmd_prefix": "del ",
     "library": "var_list.py",
     "varRefreshCmd": "print(var_dic_list())"
    },
    "r": {
     "delete_cmd_postfix": ") ",
     "delete_cmd_prefix": "rm(",
     "library": "var_list.r",
     "varRefreshCmd": "cat(var_dic_list()) "
    }
   },
   "types_to_exclude": [
    "module",
    "function",
    "builtin_function_or_method",
    "instance",
    "_Feature"
   ],
   "window_display": false
  }
 },
 "nbformat": 4,
 "nbformat_minor": 1
}
