{
 "cells": [
  {
   "cell_type": "markdown",
   "id": "2ec0258f",
   "metadata": {},
   "source": [
    "# ESTUDO PANDAS 15/02/2022 aula - 0"
   ]
  },
  {
   "cell_type": "code",
   "execution_count": 2,
   "id": "2867a66f",
   "metadata": {
    "ExecuteTime": {
     "end_time": "2022-02-15T23:10:37.963133Z",
     "start_time": "2022-02-15T23:10:37.249130Z"
    }
   },
   "outputs": [],
   "source": [
    "import numpy as np\n",
    "import pandas as pd"
   ]
  },
  {
   "cell_type": "code",
   "execution_count": 3,
   "id": "26a3977c",
   "metadata": {
    "ExecuteTime": {
     "end_time": "2022-02-15T23:10:38.011128Z",
     "start_time": "2022-02-15T23:10:37.984135Z"
    }
   },
   "outputs": [],
   "source": [
    "datas = pd.date_range('20180101', periods= 6)"
   ]
  },
  {
   "cell_type": "markdown",
   "id": "1d454273",
   "metadata": {},
   "source": [
    "a função data_range gera datas a partir do primeiro valor, e tem diversas possibilidades de seleção de data. estudar site pandas essa função."
   ]
  },
  {
   "cell_type": "code",
   "execution_count": 4,
   "id": "79354bbb",
   "metadata": {
    "ExecuteTime": {
     "end_time": "2022-02-15T23:10:38.233134Z",
     "start_time": "2022-02-15T23:10:38.204131Z"
    }
   },
   "outputs": [
    {
     "data": {
      "text/plain": [
       "DatetimeIndex(['2018-01-01', '2018-01-02', '2018-01-03', '2018-01-04',\n",
       "               '2018-01-05', '2018-01-06'],\n",
       "              dtype='datetime64[ns]', freq='D')"
      ]
     },
     "execution_count": 4,
     "metadata": {},
     "output_type": "execute_result"
    }
   ],
   "source": [
    "datas"
   ]
  },
  {
   "cell_type": "markdown",
   "id": "50e1be7b",
   "metadata": {
    "ExecuteTime": {
     "end_time": "2022-02-15T23:10:38.511127Z",
     "start_time": "2022-02-15T23:10:38.489130Z"
    }
   },
   "source": [
    "freq = D significa diariamente, caso coloque M seria mês e ano Y."
   ]
  },
  {
   "cell_type": "code",
   "execution_count": 6,
   "id": "d9795620",
   "metadata": {
    "ExecuteTime": {
     "end_time": "2022-02-15T23:10:38.811130Z",
     "start_time": "2022-02-15T23:10:38.781143Z"
    }
   },
   "outputs": [],
   "source": [
    "\n",
    "df = pd.DataFrame(np.random.randn(6,4), index = datas, columns = list(\"ABCD\"))"
   ]
  },
  {
   "cell_type": "markdown",
   "id": "1e2eff24",
   "metadata": {},
   "source": [
    "Gerando data frame números aleatórios (6,4) com linhas como datas e colunas como lista."
   ]
  },
  {
   "cell_type": "code",
   "execution_count": 7,
   "id": "046dec18",
   "metadata": {
    "ExecuteTime": {
     "end_time": "2022-02-15T23:10:39.651134Z",
     "start_time": "2022-02-15T23:10:39.617133Z"
    }
   },
   "outputs": [
    {
     "data": {
      "text/html": [
       "<div>\n",
       "<style scoped>\n",
       "    .dataframe tbody tr th:only-of-type {\n",
       "        vertical-align: middle;\n",
       "    }\n",
       "\n",
       "    .dataframe tbody tr th {\n",
       "        vertical-align: top;\n",
       "    }\n",
       "\n",
       "    .dataframe thead th {\n",
       "        text-align: right;\n",
       "    }\n",
       "</style>\n",
       "<table border=\"1\" class=\"dataframe\">\n",
       "  <thead>\n",
       "    <tr style=\"text-align: right;\">\n",
       "      <th></th>\n",
       "      <th>A</th>\n",
       "      <th>B</th>\n",
       "      <th>C</th>\n",
       "      <th>D</th>\n",
       "    </tr>\n",
       "  </thead>\n",
       "  <tbody>\n",
       "    <tr>\n",
       "      <th>2018-01-01</th>\n",
       "      <td>-0.564758</td>\n",
       "      <td>-0.081880</td>\n",
       "      <td>0.006929</td>\n",
       "      <td>-0.057958</td>\n",
       "    </tr>\n",
       "    <tr>\n",
       "      <th>2018-01-02</th>\n",
       "      <td>-0.442357</td>\n",
       "      <td>-1.354681</td>\n",
       "      <td>0.358494</td>\n",
       "      <td>0.184178</td>\n",
       "    </tr>\n",
       "    <tr>\n",
       "      <th>2018-01-03</th>\n",
       "      <td>0.254107</td>\n",
       "      <td>1.158872</td>\n",
       "      <td>0.586878</td>\n",
       "      <td>-2.210663</td>\n",
       "    </tr>\n",
       "    <tr>\n",
       "      <th>2018-01-04</th>\n",
       "      <td>0.812882</td>\n",
       "      <td>0.158323</td>\n",
       "      <td>-1.113794</td>\n",
       "      <td>0.208539</td>\n",
       "    </tr>\n",
       "    <tr>\n",
       "      <th>2018-01-05</th>\n",
       "      <td>0.033163</td>\n",
       "      <td>-0.623802</td>\n",
       "      <td>-1.350122</td>\n",
       "      <td>0.440134</td>\n",
       "    </tr>\n",
       "    <tr>\n",
       "      <th>2018-01-06</th>\n",
       "      <td>1.007968</td>\n",
       "      <td>0.310470</td>\n",
       "      <td>-1.144118</td>\n",
       "      <td>0.949812</td>\n",
       "    </tr>\n",
       "  </tbody>\n",
       "</table>\n",
       "</div>"
      ],
      "text/plain": [
       "                   A         B         C         D\n",
       "2018-01-01 -0.564758 -0.081880  0.006929 -0.057958\n",
       "2018-01-02 -0.442357 -1.354681  0.358494  0.184178\n",
       "2018-01-03  0.254107  1.158872  0.586878 -2.210663\n",
       "2018-01-04  0.812882  0.158323 -1.113794  0.208539\n",
       "2018-01-05  0.033163 -0.623802 -1.350122  0.440134\n",
       "2018-01-06  1.007968  0.310470 -1.144118  0.949812"
      ]
     },
     "execution_count": 7,
     "metadata": {},
     "output_type": "execute_result"
    }
   ],
   "source": [
    "df.head(6)"
   ]
  },
  {
   "cell_type": "markdown",
   "id": "25696101",
   "metadata": {},
   "source": [
    "Agora vamos gerar um dataframe através de um dicionário."
   ]
  },
  {
   "cell_type": "code",
   "execution_count": 9,
   "id": "bee7c2ad",
   "metadata": {
    "ExecuteTime": {
     "end_time": "2022-02-15T23:13:02.266130Z",
     "start_time": "2022-02-15T23:13:02.236130Z"
    }
   },
   "outputs": [],
   "source": [
    "df2 = pd.DataFrame({\"A\":7,\n",
    "                    \"B\": pd.Timestamp(\"20190101\"),\n",
    "                    \"C\": pd.Series(1, index=list(range(4))),\n",
    "                    \"D\": np.array([3]*4, dtype= 'int32'),\n",
    "                    \"E\": pd.Categorical(['test', 'train', 'test', 'train']),\n",
    "                    \"F\": 'python'})"
   ]
  },
  {
   "cell_type": "code",
   "execution_count": 12,
   "id": "39e3caab",
   "metadata": {
    "ExecuteTime": {
     "end_time": "2022-02-15T23:14:26.534135Z",
     "start_time": "2022-02-15T23:14:26.504133Z"
    }
   },
   "outputs": [
    {
     "data": {
      "text/html": [
       "<div>\n",
       "<style scoped>\n",
       "    .dataframe tbody tr th:only-of-type {\n",
       "        vertical-align: middle;\n",
       "    }\n",
       "\n",
       "    .dataframe tbody tr th {\n",
       "        vertical-align: top;\n",
       "    }\n",
       "\n",
       "    .dataframe thead th {\n",
       "        text-align: right;\n",
       "    }\n",
       "</style>\n",
       "<table border=\"1\" class=\"dataframe\">\n",
       "  <thead>\n",
       "    <tr style=\"text-align: right;\">\n",
       "      <th></th>\n",
       "      <th>A</th>\n",
       "      <th>B</th>\n",
       "      <th>C</th>\n",
       "      <th>D</th>\n",
       "      <th>E</th>\n",
       "      <th>F</th>\n",
       "    </tr>\n",
       "  </thead>\n",
       "  <tbody>\n",
       "    <tr>\n",
       "      <th>0</th>\n",
       "      <td>7</td>\n",
       "      <td>2019-01-01</td>\n",
       "      <td>1</td>\n",
       "      <td>3</td>\n",
       "      <td>test</td>\n",
       "      <td>python</td>\n",
       "    </tr>\n",
       "    <tr>\n",
       "      <th>1</th>\n",
       "      <td>7</td>\n",
       "      <td>2019-01-01</td>\n",
       "      <td>1</td>\n",
       "      <td>3</td>\n",
       "      <td>train</td>\n",
       "      <td>python</td>\n",
       "    </tr>\n",
       "    <tr>\n",
       "      <th>2</th>\n",
       "      <td>7</td>\n",
       "      <td>2019-01-01</td>\n",
       "      <td>1</td>\n",
       "      <td>3</td>\n",
       "      <td>test</td>\n",
       "      <td>python</td>\n",
       "    </tr>\n",
       "    <tr>\n",
       "      <th>3</th>\n",
       "      <td>7</td>\n",
       "      <td>2019-01-01</td>\n",
       "      <td>1</td>\n",
       "      <td>3</td>\n",
       "      <td>train</td>\n",
       "      <td>python</td>\n",
       "    </tr>\n",
       "  </tbody>\n",
       "</table>\n",
       "</div>"
      ],
      "text/plain": [
       "   A          B  C  D      E       F\n",
       "0  7 2019-01-01  1  3   test  python\n",
       "1  7 2019-01-01  1  3  train  python\n",
       "2  7 2019-01-01  1  3   test  python\n",
       "3  7 2019-01-01  1  3  train  python"
      ]
     },
     "execution_count": 12,
     "metadata": {},
     "output_type": "execute_result"
    }
   ],
   "source": [
    "df2.head(4)"
   ]
  },
  {
   "cell_type": "markdown",
   "id": "2a893f69",
   "metadata": {},
   "source": [
    "O DF acima mostra os valores na colunas e na legenda as chaves ABCDEF, no index não foi definido então por default segue enumeração."
   ]
  }
 ],
 "metadata": {
  "kernelspec": {
   "display_name": "Python 3 (ipykernel)",
   "language": "python",
   "name": "python3"
  },
  "language_info": {
   "codemirror_mode": {
    "name": "ipython",
    "version": 3
   },
   "file_extension": ".py",
   "mimetype": "text/x-python",
   "name": "python",
   "nbconvert_exporter": "python",
   "pygments_lexer": "ipython3",
   "version": "3.10.0"
  },
  "latex_envs": {
   "LaTeX_envs_menu_present": true,
   "autoclose": false,
   "autocomplete": true,
   "bibliofile": "biblio.bib",
   "cite_by": "apalike",
   "current_citInitial": 1,
   "eqLabelWithNumbers": true,
   "eqNumInitial": 1,
   "hotkeys": {
    "equation": "Ctrl-E",
    "itemize": "Ctrl-I"
   },
   "labels_anchors": false,
   "latex_user_defs": false,
   "report_style_numbering": false,
   "user_envs_cfg": false
  },
  "nbTranslate": {
   "displayLangs": [
    "*"
   ],
   "hotkey": "alt-t",
   "langInMainMenu": true,
   "sourceLang": "en",
   "targetLang": "fr",
   "useGoogleTranslate": true
  },
  "toc": {
   "base_numbering": 1,
   "nav_menu": {},
   "number_sections": true,
   "sideBar": true,
   "skip_h1_title": false,
   "title_cell": "Table of Contents",
   "title_sidebar": "Contents",
   "toc_cell": false,
   "toc_position": {},
   "toc_section_display": true,
   "toc_window_display": false
  },
  "varInspector": {
   "cols": {
    "lenName": 16,
    "lenType": 16,
    "lenVar": 40
   },
   "kernels_config": {
    "python": {
     "delete_cmd_postfix": "",
     "delete_cmd_prefix": "del ",
     "library": "var_list.py",
     "varRefreshCmd": "print(var_dic_list())"
    },
    "r": {
     "delete_cmd_postfix": ") ",
     "delete_cmd_prefix": "rm(",
     "library": "var_list.r",
     "varRefreshCmd": "cat(var_dic_list()) "
    }
   },
   "types_to_exclude": [
    "module",
    "function",
    "builtin_function_or_method",
    "instance",
    "_Feature"
   ],
   "window_display": false
  }
 },
 "nbformat": 4,
 "nbformat_minor": 5
}
