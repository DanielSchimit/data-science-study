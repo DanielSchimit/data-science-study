{
 "cells": [
  {
   "cell_type": "markdown",
   "id": "db4d24cd",
   "metadata": {},
   "source": [
    "# estudodirigidopandas04 group by"
   ]
  },
  {
   "cell_type": "code",
   "execution_count": 1,
   "id": "5bfa1df9",
   "metadata": {
    "ExecuteTime": {
     "end_time": "2022-02-20T14:50:35.623128Z",
     "start_time": "2022-02-20T14:50:21.541280Z"
    }
   },
   "outputs": [],
   "source": [
    "import numpy as np\n",
    "import pandas as pd"
   ]
  },
  {
   "cell_type": "code",
   "execution_count": 2,
   "id": "fedc4d90",
   "metadata": {
    "ExecuteTime": {
     "end_time": "2022-02-20T14:59:09.323735Z",
     "start_time": "2022-02-20T14:59:09.302734Z"
    }
   },
   "outputs": [],
   "source": [
    "df = pd.DataFrame({'A': ['verdadeiro', 'falso', 'verdadeiro', 'falso',\n",
    "                        'verdadeiro', 'falso', 'verdadeiro', 'falso',],\n",
    "                   'B': ['um', 'um', 'dois', 'três', \n",
    "                        'dois', 'dois', 'um', 'três'],\n",
    "                   'C': np.random.randn(8),\n",
    "                   'D': np.random.randn(8)})"
   ]
  },
  {
   "cell_type": "code",
   "execution_count": 3,
   "id": "c01b59ba",
   "metadata": {
    "ExecuteTime": {
     "end_time": "2022-02-20T14:59:26.074691Z",
     "start_time": "2022-02-20T14:59:26.021689Z"
    }
   },
   "outputs": [
    {
     "data": {
      "text/html": [
       "<div>\n",
       "<style scoped>\n",
       "    .dataframe tbody tr th:only-of-type {\n",
       "        vertical-align: middle;\n",
       "    }\n",
       "\n",
       "    .dataframe tbody tr th {\n",
       "        vertical-align: top;\n",
       "    }\n",
       "\n",
       "    .dataframe thead th {\n",
       "        text-align: right;\n",
       "    }\n",
       "</style>\n",
       "<table border=\"1\" class=\"dataframe\">\n",
       "  <thead>\n",
       "    <tr style=\"text-align: right;\">\n",
       "      <th></th>\n",
       "      <th>A</th>\n",
       "      <th>B</th>\n",
       "      <th>C</th>\n",
       "      <th>D</th>\n",
       "    </tr>\n",
       "  </thead>\n",
       "  <tbody>\n",
       "    <tr>\n",
       "      <th>0</th>\n",
       "      <td>verdadeiro</td>\n",
       "      <td>um</td>\n",
       "      <td>0.525646</td>\n",
       "      <td>0.012793</td>\n",
       "    </tr>\n",
       "    <tr>\n",
       "      <th>1</th>\n",
       "      <td>falso</td>\n",
       "      <td>um</td>\n",
       "      <td>0.271913</td>\n",
       "      <td>2.049636</td>\n",
       "    </tr>\n",
       "    <tr>\n",
       "      <th>2</th>\n",
       "      <td>verdadeiro</td>\n",
       "      <td>dois</td>\n",
       "      <td>-0.144655</td>\n",
       "      <td>-0.033728</td>\n",
       "    </tr>\n",
       "    <tr>\n",
       "      <th>3</th>\n",
       "      <td>falso</td>\n",
       "      <td>três</td>\n",
       "      <td>-0.116672</td>\n",
       "      <td>0.477636</td>\n",
       "    </tr>\n",
       "    <tr>\n",
       "      <th>4</th>\n",
       "      <td>verdadeiro</td>\n",
       "      <td>dois</td>\n",
       "      <td>1.642282</td>\n",
       "      <td>0.225209</td>\n",
       "    </tr>\n",
       "    <tr>\n",
       "      <th>5</th>\n",
       "      <td>falso</td>\n",
       "      <td>dois</td>\n",
       "      <td>0.027998</td>\n",
       "      <td>-0.499062</td>\n",
       "    </tr>\n",
       "    <tr>\n",
       "      <th>6</th>\n",
       "      <td>verdadeiro</td>\n",
       "      <td>um</td>\n",
       "      <td>0.372502</td>\n",
       "      <td>1.223257</td>\n",
       "    </tr>\n",
       "    <tr>\n",
       "      <th>7</th>\n",
       "      <td>falso</td>\n",
       "      <td>três</td>\n",
       "      <td>-0.656815</td>\n",
       "      <td>-2.676721</td>\n",
       "    </tr>\n",
       "  </tbody>\n",
       "</table>\n",
       "</div>"
      ],
      "text/plain": [
       "            A     B         C         D\n",
       "0  verdadeiro    um  0.525646  0.012793\n",
       "1       falso    um  0.271913  2.049636\n",
       "2  verdadeiro  dois -0.144655 -0.033728\n",
       "3       falso  três -0.116672  0.477636\n",
       "4  verdadeiro  dois  1.642282  0.225209\n",
       "5       falso  dois  0.027998 -0.499062\n",
       "6  verdadeiro    um  0.372502  1.223257\n",
       "7       falso  três -0.656815 -2.676721"
      ]
     },
     "execution_count": 3,
     "metadata": {},
     "output_type": "execute_result"
    }
   ],
   "source": [
    "df"
   ]
  },
  {
   "cell_type": "code",
   "execution_count": 4,
   "id": "6848adb7",
   "metadata": {
    "ExecuteTime": {
     "end_time": "2022-02-20T15:04:04.323344Z",
     "start_time": "2022-02-20T15:04:04.289345Z"
    }
   },
   "outputs": [
    {
     "data": {
      "text/html": [
       "<div>\n",
       "<style scoped>\n",
       "    .dataframe tbody tr th:only-of-type {\n",
       "        vertical-align: middle;\n",
       "    }\n",
       "\n",
       "    .dataframe tbody tr th {\n",
       "        vertical-align: top;\n",
       "    }\n",
       "\n",
       "    .dataframe thead th {\n",
       "        text-align: right;\n",
       "    }\n",
       "</style>\n",
       "<table border=\"1\" class=\"dataframe\">\n",
       "  <thead>\n",
       "    <tr style=\"text-align: right;\">\n",
       "      <th></th>\n",
       "      <th>C</th>\n",
       "      <th>D</th>\n",
       "    </tr>\n",
       "    <tr>\n",
       "      <th>A</th>\n",
       "      <th></th>\n",
       "      <th></th>\n",
       "    </tr>\n",
       "  </thead>\n",
       "  <tbody>\n",
       "    <tr>\n",
       "      <th>falso</th>\n",
       "      <td>-0.473577</td>\n",
       "      <td>-0.648511</td>\n",
       "    </tr>\n",
       "    <tr>\n",
       "      <th>verdadeiro</th>\n",
       "      <td>2.395775</td>\n",
       "      <td>1.427530</td>\n",
       "    </tr>\n",
       "  </tbody>\n",
       "</table>\n",
       "</div>"
      ],
      "text/plain": [
       "                   C         D\n",
       "A                             \n",
       "falso      -0.473577 -0.648511\n",
       "verdadeiro  2.395775  1.427530"
      ]
     },
     "execution_count": 4,
     "metadata": {},
     "output_type": "execute_result"
    }
   ],
   "source": [
    "df.groupby(['A']).sum()"
   ]
  },
  {
   "cell_type": "markdown",
   "id": "bdc94be7",
   "metadata": {},
   "source": [
    "O groupby juntou todos os valores falso e verdadeiro e os somou, então temos coluna A com 2 valores e coluna C e D os valores foram somados."
   ]
  },
  {
   "cell_type": "code",
   "execution_count": 5,
   "id": "e0f3cb63",
   "metadata": {
    "ExecuteTime": {
     "end_time": "2022-02-20T15:12:13.178829Z",
     "start_time": "2022-02-20T15:12:13.154827Z"
    }
   },
   "outputs": [
    {
     "data": {
      "text/html": [
       "<div>\n",
       "<style scoped>\n",
       "    .dataframe tbody tr th:only-of-type {\n",
       "        vertical-align: middle;\n",
       "    }\n",
       "\n",
       "    .dataframe tbody tr th {\n",
       "        vertical-align: top;\n",
       "    }\n",
       "\n",
       "    .dataframe thead th {\n",
       "        text-align: right;\n",
       "    }\n",
       "</style>\n",
       "<table border=\"1\" class=\"dataframe\">\n",
       "  <thead>\n",
       "    <tr style=\"text-align: right;\">\n",
       "      <th></th>\n",
       "      <th>C</th>\n",
       "      <th>D</th>\n",
       "    </tr>\n",
       "    <tr>\n",
       "      <th>B</th>\n",
       "      <th></th>\n",
       "      <th></th>\n",
       "    </tr>\n",
       "  </thead>\n",
       "  <tbody>\n",
       "    <tr>\n",
       "      <th>dois</th>\n",
       "      <td>1.525625</td>\n",
       "      <td>-0.307581</td>\n",
       "    </tr>\n",
       "    <tr>\n",
       "      <th>três</th>\n",
       "      <td>-0.773488</td>\n",
       "      <td>-2.199085</td>\n",
       "    </tr>\n",
       "    <tr>\n",
       "      <th>um</th>\n",
       "      <td>1.170060</td>\n",
       "      <td>3.285686</td>\n",
       "    </tr>\n",
       "  </tbody>\n",
       "</table>\n",
       "</div>"
      ],
      "text/plain": [
       "             C         D\n",
       "B                       \n",
       "dois  1.525625 -0.307581\n",
       "três -0.773488 -2.199085\n",
       "um    1.170060  3.285686"
      ]
     },
     "execution_count": 5,
     "metadata": {},
     "output_type": "execute_result"
    }
   ],
   "source": [
    "df.groupby(['B']).sum()"
   ]
  },
  {
   "cell_type": "markdown",
   "id": "f80ad54e",
   "metadata": {},
   "source": [
    "já em B tem três categorias um dois e três. as colunas c e d foram somadas."
   ]
  },
  {
   "cell_type": "code",
   "execution_count": 6,
   "id": "5430debc",
   "metadata": {
    "ExecuteTime": {
     "end_time": "2022-02-20T15:16:31.654763Z",
     "start_time": "2022-02-20T15:16:31.618759Z"
    }
   },
   "outputs": [
    {
     "data": {
      "text/html": [
       "<div>\n",
       "<style scoped>\n",
       "    .dataframe tbody tr th:only-of-type {\n",
       "        vertical-align: middle;\n",
       "    }\n",
       "\n",
       "    .dataframe tbody tr th {\n",
       "        vertical-align: top;\n",
       "    }\n",
       "\n",
       "    .dataframe thead th {\n",
       "        text-align: right;\n",
       "    }\n",
       "</style>\n",
       "<table border=\"1\" class=\"dataframe\">\n",
       "  <thead>\n",
       "    <tr style=\"text-align: right;\">\n",
       "      <th></th>\n",
       "      <th></th>\n",
       "      <th>C</th>\n",
       "      <th>D</th>\n",
       "    </tr>\n",
       "    <tr>\n",
       "      <th>A</th>\n",
       "      <th>B</th>\n",
       "      <th></th>\n",
       "      <th></th>\n",
       "    </tr>\n",
       "  </thead>\n",
       "  <tbody>\n",
       "    <tr>\n",
       "      <th rowspan=\"3\" valign=\"top\">falso</th>\n",
       "      <th>dois</th>\n",
       "      <td>0.027998</td>\n",
       "      <td>-0.499062</td>\n",
       "    </tr>\n",
       "    <tr>\n",
       "      <th>três</th>\n",
       "      <td>-0.773488</td>\n",
       "      <td>-2.199085</td>\n",
       "    </tr>\n",
       "    <tr>\n",
       "      <th>um</th>\n",
       "      <td>0.271913</td>\n",
       "      <td>2.049636</td>\n",
       "    </tr>\n",
       "    <tr>\n",
       "      <th rowspan=\"2\" valign=\"top\">verdadeiro</th>\n",
       "      <th>dois</th>\n",
       "      <td>1.497627</td>\n",
       "      <td>0.191480</td>\n",
       "    </tr>\n",
       "    <tr>\n",
       "      <th>um</th>\n",
       "      <td>0.898148</td>\n",
       "      <td>1.236050</td>\n",
       "    </tr>\n",
       "  </tbody>\n",
       "</table>\n",
       "</div>"
      ],
      "text/plain": [
       "                        C         D\n",
       "A          B                       \n",
       "falso      dois  0.027998 -0.499062\n",
       "           três -0.773488 -2.199085\n",
       "           um    0.271913  2.049636\n",
       "verdadeiro dois  1.497627  0.191480\n",
       "           um    0.898148  1.236050"
      ]
     },
     "execution_count": 6,
     "metadata": {},
     "output_type": "execute_result"
    }
   ],
   "source": [
    "df.groupby(['A','B']).sum()"
   ]
  },
  {
   "cell_type": "markdown",
   "id": "5d3430c3",
   "metadata": {},
   "source": [
    "Nesse caso utilizamos 2 colunas A e B e temos as somas C e D"
   ]
  }
 ],
 "metadata": {
  "kernelspec": {
   "display_name": "Python 3 (ipykernel)",
   "language": "python",
   "name": "python3"
  },
  "language_info": {
   "codemirror_mode": {
    "name": "ipython",
    "version": 3
   },
   "file_extension": ".py",
   "mimetype": "text/x-python",
   "name": "python",
   "nbconvert_exporter": "python",
   "pygments_lexer": "ipython3",
   "version": "3.10.0"
  },
  "latex_envs": {
   "LaTeX_envs_menu_present": true,
   "autoclose": false,
   "autocomplete": true,
   "bibliofile": "biblio.bib",
   "cite_by": "apalike",
   "current_citInitial": 1,
   "eqLabelWithNumbers": true,
   "eqNumInitial": 1,
   "hotkeys": {
    "equation": "Ctrl-E",
    "itemize": "Ctrl-I"
   },
   "labels_anchors": false,
   "latex_user_defs": false,
   "report_style_numbering": false,
   "user_envs_cfg": false
  },
  "nbTranslate": {
   "displayLangs": [
    "*"
   ],
   "hotkey": "alt-t",
   "langInMainMenu": true,
   "sourceLang": "en",
   "targetLang": "fr",
   "useGoogleTranslate": true
  },
  "toc": {
   "base_numbering": 1,
   "nav_menu": {},
   "number_sections": true,
   "sideBar": true,
   "skip_h1_title": false,
   "title_cell": "Table of Contents",
   "title_sidebar": "Contents",
   "toc_cell": false,
   "toc_position": {},
   "toc_section_display": true,
   "toc_window_display": false
  },
  "varInspector": {
   "cols": {
    "lenName": 16,
    "lenType": 16,
    "lenVar": 40
   },
   "kernels_config": {
    "python": {
     "delete_cmd_postfix": "",
     "delete_cmd_prefix": "del ",
     "library": "var_list.py",
     "varRefreshCmd": "print(var_dic_list())"
    },
    "r": {
     "delete_cmd_postfix": ") ",
     "delete_cmd_prefix": "rm(",
     "library": "var_list.r",
     "varRefreshCmd": "cat(var_dic_list()) "
    }
   },
   "types_to_exclude": [
    "module",
    "function",
    "builtin_function_or_method",
    "instance",
    "_Feature"
   ],
   "window_display": false
  }
 },
 "nbformat": 4,
 "nbformat_minor": 5
}
